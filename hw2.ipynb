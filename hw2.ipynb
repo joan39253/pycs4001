{
  "nbformat": 4,
  "nbformat_minor": 0,
  "metadata": {
    "colab": {
      "name": "hw2",
      "provenance": [],
      "authorship_tag": "ABX9TyMpSeRhyJ/E/avMXXbzH7t6",
      "include_colab_link": true
    },
    "kernelspec": {
      "name": "python3",
      "display_name": "Python 3"
    },
    "language_info": {
      "name": "python"
    }
  },
  "cells": [
    {
      "cell_type": "markdown",
      "metadata": {
        "id": "view-in-github",
        "colab_type": "text"
      },
      "source": [
        "<a href=\"https://colab.research.google.com/github/joan39253/pycs4001/blob/main/hw2.ipynb\" target=\"_parent\"><img src=\"https://colab.research.google.com/assets/colab-badge.svg\" alt=\"Open In Colab\"/></a>"
      ]
    },
    {
      "cell_type": "code",
      "execution_count": null,
      "metadata": {
        "colab": {
          "base_uri": "https://localhost:8080/"
        },
        "id": "Xy-KesdUs9Gx",
        "outputId": "3717db31-f0e8-43e7-d74d-e5a5168dcc9b"
      },
      "outputs": [
        {
          "output_type": "stream",
          "name": "stdout",
          "text": [
            "10\n",
            "1+2+3+4+5+6+7+8+9+10=55\n"
          ]
        }
      ],
      "source": [
        "n=int(input())\n",
        "sum=0\n",
        "for i in range(1, n+1, 1):\n",
        "    if i==n:\n",
        "        print(i, end=\"=\")\n",
        "    else:\n",
        "        print(i, end=\"+\")\n",
        "    sum+=i\n",
        "print(sum)"
      ]
    },
    {
      "cell_type": "code",
      "source": [
        "num=input()\n",
        "standard=int(input())\n",
        "s=num[1:-1]\n",
        "list=s.split(\",\")\n",
        "\n",
        "ans=[]\n",
        "for v in list:\n",
        "    if int(v)>=standard:\n",
        "          ans.append(int(v))\n",
        "print(ans)"
      ],
      "metadata": {
        "colab": {
          "base_uri": "https://localhost:8080/"
        },
        "id": "3iwHbzVStAb3",
        "outputId": "e1170633-e2d3-45dd-a2d9-32cdc54365c6"
      },
      "execution_count": null,
      "outputs": [
        {
          "output_type": "stream",
          "name": "stdout",
          "text": [
            "[1,2,3,4,5]\n",
            "3\n",
            "[3, 4, 5]\n"
          ]
        }
      ]
    },
    {
      "cell_type": "code",
      "source": [
        "s=input()\n",
        "int_list = list(map(int, s.split()))\n",
        "print(int_list)\n",
        "num=[v for v in int_list if v%2==0]\n",
        "print(sum(num))"
      ],
      "metadata": {
        "colab": {
          "base_uri": "https://localhost:8080/"
        },
        "id": "NacvwtZitRZZ",
        "outputId": "1475f19c-766e-4132-b7d8-0574e9ef2ca8"
      },
      "execution_count": null,
      "outputs": [
        {
          "output_type": "stream",
          "name": "stdout",
          "text": [
            "1 2 3 4\n",
            "[1, 2, 3, 4]\n",
            "6\n"
          ]
        }
      ]
    },
    {
      "cell_type": "code",
      "source": [
        "s1=input()\n",
        "s2=input()\n",
        "n1=len(s1)\n",
        "n2=len(s2)\n",
        "count=0\n",
        "i=n2\n",
        "for i in range(n2, n1+1, 1):\n",
        "    if s1[i-n2:i]==s2:\n",
        "        count+=1\n",
        "print(count)"
      ],
      "metadata": {
        "id": "LAXRL9-etSqP"
      },
      "execution_count": null,
      "outputs": []
    }
  ]
}