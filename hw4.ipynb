{
  "nbformat": 4,
  "nbformat_minor": 0,
  "metadata": {
    "colab": {
      "name": "hw4",
      "provenance": [],
      "collapsed_sections": [],
      "authorship_tag": "ABX9TyOsOc3wafgAT+cXe/twxaj0",
      "include_colab_link": true
    },
    "kernelspec": {
      "name": "python3",
      "display_name": "Python 3"
    },
    "language_info": {
      "name": "python"
    }
  },
  "cells": [
    {
      "cell_type": "markdown",
      "metadata": {
        "id": "view-in-github",
        "colab_type": "text"
      },
      "source": [
        "<a href=\"https://colab.research.google.com/github/joan39253/pycs4001/blob/main/hw4.ipynb\" target=\"_parent\"><img src=\"https://colab.research.google.com/assets/colab-badge.svg\" alt=\"Open In Colab\"/></a>"
      ]
    },
    {
      "cell_type": "code",
      "execution_count": null,
      "metadata": {
        "colab": {
          "base_uri": "https://localhost:8080/"
        },
        "id": "VKQ94mbzqDMT",
        "outputId": "6d8159c1-2da0-40ec-a4b9-0044c2249d3e"
      },
      "outputs": [
        {
          "output_type": "stream",
          "name": "stdout",
          "text": [
            "A:\n",
            "2 3 5\n",
            "5 7 8\n",
            "B:\n",
            "1 2\n",
            "3 10\n",
            "2 6\n",
            "[[ 21  64]\n",
            " [ 42 128]]\n"
          ]
        }
      ],
      "source": [
        "#法一\n",
        "import numpy as np\n",
        "\n",
        "a=[]\n",
        "print(\"A:\")\n",
        "for i in range(2):\n",
        "  s=input().split()\n",
        "  a.append(list(map(int, s)))\n",
        "a=np.array(a)\n",
        "b=[]\n",
        "print(\"B:\")\n",
        "for i in range(3):\n",
        "  s=input().split()\n",
        "  b.append(list(map(int, s)))\n",
        "\n",
        "print(np.matmul(a,b))"
      ]
    },
    {
      "cell_type": "code",
      "source": [
        "#法二\n",
        "import numpy as np\n",
        "\n",
        "a=np.zeros((2,3))\n",
        "print(\"A:\")\n",
        "for i in range(2):\n",
        "  a[i,:]=np.array(list(map(int, input().split())))\n",
        "b=np.zeros((3,2))\n",
        "print(\"B:\")\n",
        "for i in range(3):\n",
        "  b[i,:]=np.array(list(map(int, input().split())))\n",
        "\n",
        "print(np.matmul(a,b))"
      ],
      "metadata": {
        "colab": {
          "base_uri": "https://localhost:8080/"
        },
        "id": "8Gc4MD_fPUFb",
        "outputId": "d5b41b41-1c96-4924-df36-bad57f2d8ab4"
      },
      "execution_count": null,
      "outputs": [
        {
          "output_type": "stream",
          "name": "stdout",
          "text": [
            "A:\n",
            "2 3 5\n",
            "5 7 8\n",
            "B:\n",
            "1 2\n",
            "3 10\n",
            "2 6\n",
            "[[ 21.  64.]\n",
            " [ 42. 128.]]\n"
          ]
        }
      ]
    },
    {
      "cell_type": "code",
      "source": [
        "s=input(\"A class:\").split()\n",
        "a=np.array(list(map(int,s)))\n",
        "s=input(\"B class:\").split()\n",
        "b=np.array(list(map(int,s)))\n",
        "s=input(\"C class:\").split()\n",
        "c=np.array(list(map(int,s)))\n",
        "print(f\"A class 總和:{sum(a)}, 最大:{max(a)}\")\n",
        "print(f\"B class 總和:{sum(b)}, 最大:{max(b)}\")\n",
        "print(f\"C class 總和:{sum(c)}, 最大:{max(c)}\")"
      ],
      "metadata": {
        "colab": {
          "base_uri": "https://localhost:8080/"
        },
        "id": "g2BteC0W5D62",
        "outputId": "cd73d1c2-90ea-4d13-befe-c69d0279369a"
      },
      "execution_count": null,
      "outputs": [
        {
          "output_type": "stream",
          "name": "stdout",
          "text": [
            "A class:1 2 3\n",
            "B class:4 5 6\n",
            "C class:7 8 9\n",
            "A class 總和:6, 最大:3\n",
            "B class 總和:15, 最大:6\n",
            "C class 總和:24, 最大:9\n"
          ]
        }
      ]
    }
  ]
}