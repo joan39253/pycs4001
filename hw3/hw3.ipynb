{
  "nbformat": 4,
  "nbformat_minor": 0,
  "metadata": {
    "colab": {
      "name": "hw3",
      "provenance": [],
      "collapsed_sections": [],
      "include_colab_link": true
    },
    "kernelspec": {
      "name": "python3",
      "display_name": "Python 3"
    },
    "language_info": {
      "name": "python"
    }
  },
  "cells": [
    {
      "cell_type": "markdown",
      "metadata": {
        "id": "view-in-github",
        "colab_type": "text"
      },
      "source": [
        "<a href=\"https://colab.research.google.com/github/joan39253/pycs4001/blob/main/hw3/hw3.ipynb\" target=\"_parent\"><img src=\"https://colab.research.google.com/assets/colab-badge.svg\" alt=\"Open In Colab\"/></a>"
      ]
    },
    {
      "cell_type": "code",
      "execution_count": null,
      "metadata": {
        "id": "T07S_t1v2KST"
      },
      "outputs": [],
      "source": [
        "n=int(input())\n",
        "for i in range(n, 0, -1):\n",
        "  for j in range(n-i):\n",
        "    print(\" \", end=\"\")\n",
        "  for j in range(i):\n",
        "    print(\"*\", end=\"\")\n",
        "  print()"
      ]
    },
    {
      "cell_type": "code",
      "source": [
        "n=int(input())\n",
        "for i in range(1, n+1, 1):\n",
        "  for j in range(n-i):\n",
        "    print(\" \", end=\"\")\n",
        "  for j in range(i):\n",
        "    print(\"*\", end=\"\")\n",
        "  print()"
      ],
      "metadata": {
        "id": "_rIUas8e3kBH"
      },
      "execution_count": null,
      "outputs": []
    },
    {
      "cell_type": "code",
      "source": [
        "import math\n",
        "def get_distance(p1, p2):\n",
        "  dist=math.sqrt((p1[0]-p2[0])**2+(p1[1]-p2[1])**2)\n",
        "  return dist\n",
        "\n",
        "point1=input(\"point1: \")\n",
        "p1=list(map(int, point1.split()))\n",
        "point2=input(\"point2: \")\n",
        "p2=list(map(int, point2.split()))\n",
        "print(get_distance(p1, p2))"
      ],
      "metadata": {
        "colab": {
          "base_uri": "https://localhost:8080/"
        },
        "id": "_kPOQZtG83_I",
        "outputId": "40c05b66-097c-4066-f386-016390cd732f"
      },
      "execution_count": null,
      "outputs": [
        {
          "output_type": "stream",
          "name": "stdout",
          "text": [
            "point1: 3 5\n",
            "point2: 10 29\n",
            "25.0\n"
          ]
        }
      ]
    },
    {
      "cell_type": "code",
      "source": [
        "import random as r\n",
        "row=int(input(\"row: \"))\n",
        "col=int(input(\"col: \"))\n",
        "matrix=[]\n",
        "for i in range(row):\n",
        "  matrix.append([r.randint(1,20) for j in range(col)])\n",
        "\n",
        "for i in range(row):\n",
        "  for j in range(col):\n",
        "    print(f\"{matrix[i][j]:2d}\",end=\" \")\n",
        "  print()"
      ],
      "metadata": {
        "colab": {
          "base_uri": "https://localhost:8080/"
        },
        "id": "cIwj79_RPABI",
        "outputId": "e275a1bd-03ff-405b-8a24-8eaca02296fc"
      },
      "execution_count": null,
      "outputs": [
        {
          "output_type": "stream",
          "name": "stdout",
          "text": [
            "row: 5\n",
            "col: 3\n",
            "17 11  8 \n",
            " 6 19  9 \n",
            " 9 19 14 \n",
            "11  6 20 \n",
            "12  9 19 \n"
          ]
        }
      ]
    }
  ]
}